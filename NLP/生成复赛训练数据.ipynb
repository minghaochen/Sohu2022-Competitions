{
 "cells": [
  {
   "cell_type": "code",
   "execution_count": 1,
   "id": "8ff9f7a0-f8f2-4c1b-8a48-79406d4c7dba",
   "metadata": {},
   "outputs": [],
   "source": [
    "import json\n",
    "import random\n",
    "import pandas as pd"
   ]
  },
  {
   "cell_type": "code",
   "execution_count": 2,
   "id": "c7eb8e4c-448e-4a2d-aa86-6725d19dd29f",
   "metadata": {},
   "outputs": [
    {
     "name": "stdout",
     "output_type": "stream",
     "text": [
      "89195\n",
      "102488\n"
     ]
    }
   ],
   "source": [
    "datas = []\n",
    "with open('Sohu2022_data/nlp_data/train.txt',encoding='utf-8') as f:\n",
    "    data = f.readlines()\n",
    "    for i in data:\n",
    "        datas.append(json.loads(i))\n",
    "print(len(datas))\n",
    "with open('Sohu2022_data/nlp_data/nlp-train-dataset.txt',encoding='utf-8') as f:\n",
    "    data = f.readlines()\n",
    "    for i in data:\n",
    "        datas.append(json.loads(i))\n",
    "print(len(datas))\n",
    "random.shuffle(datas)\n",
    "pd.to_pickle(datas[:3000],'valid_nlp.pk')\n",
    "pd.to_pickle(datas,'train_nlp_1.pk')"
   ]
  },
  {
   "cell_type": "code",
   "execution_count": 3,
   "id": "7a1671ec-2c7a-4ac3-ae13-f8590ec5a243",
   "metadata": {},
   "outputs": [
    {
     "name": "stdout",
     "output_type": "stream",
     "text": [
      "102488\n"
     ]
    }
   ],
   "source": [
    "print(len(datas))"
   ]
  },
  {
   "cell_type": "code",
   "execution_count": null,
   "id": "2dc296da-69ae-469b-9f41-12b4bd3a86dc",
   "metadata": {},
   "outputs": [],
   "source": []
  }
 ],
 "metadata": {
  "kernelspec": {
   "display_name": "PyTorch 1.8",
   "language": "python",
   "name": "torch1.8"
  },
  "language_info": {
   "codemirror_mode": {
    "name": "ipython",
    "version": 3
   },
   "file_extension": ".py",
   "mimetype": "text/x-python",
   "name": "python",
   "nbconvert_exporter": "python",
   "pygments_lexer": "ipython3",
   "version": "3.9.7"
  }
 },
 "nbformat": 4,
 "nbformat_minor": 5
}
